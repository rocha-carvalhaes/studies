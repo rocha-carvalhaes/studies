{
 "cells": [
  {
   "cell_type": "code",
   "execution_count": 461,
   "id": "77c35912",
   "metadata": {},
   "outputs": [],
   "source": [
    "from random import randint"
   ]
  },
  {
   "cell_type": "code",
   "execution_count": 463,
   "id": "5568160b",
   "metadata": {
    "scrolled": true
   },
   "outputs": [],
   "source": [
    "# Trocar as portas\n",
    "troca = True\n",
    "\n",
    "# Número de repetições\n",
    "repeticoes = 1000000\n",
    "\n",
    "# Repetições\n",
    "def monty_hall(troca, repeticoes):\n",
    "    \n",
    "    # Lista de resposta troca\n",
    "    aswr_troca = []\n",
    "    \n",
    "    # Contagem de acertos e erros\n",
    "    acerto = 0\n",
    "    erro = 0\n",
    "    \n",
    "    for i in range(0, repeticoes):\n",
    "        portas = [1, 2, 3]\n",
    "\n",
    "\n",
    "        index_certa = randint(0,2)\n",
    "        porta_certa = portas[index_certa]\n",
    "        #print(\"Porta certa: {}\".format(porta_certa))\n",
    "\n",
    "        index_chute = randint(0,2)\n",
    "        chute = portas[index_chute]\n",
    "        #print(\"Chute inicial: {}\".format(chute))\n",
    "\n",
    "        porta_errada = portas[:]\n",
    "        porta_errada.remove(porta_certa)\n",
    "        if chute == porta_certa:\n",
    "            del porta_errada[randint(0,1)]\n",
    "        else:\n",
    "            porta_errada.remove(chute)\n",
    "        porta_errada = porta_errada[0]\n",
    "        #print(\"Porta errada: {}\".format(porta_errada))\n",
    "\n",
    "        portas.remove(porta_errada)\n",
    "\n",
    "        if troca:\n",
    "            portas.remove(chute)\n",
    "            chute = portas[0]\n",
    "\n",
    "        #print(\"Resposta final: {}\".format(chute))\n",
    "\n",
    "        if porta_certa == chute:\n",
    "            resultado = 1\n",
    "            acerto += 1\n",
    "        else:\n",
    "            resultado = 0\n",
    "            erro += 1\n",
    "\n",
    "        aswr_troca.append(resultado)\n",
    "\n",
    "    print(f\"Acertos: {acerto}\")\n",
    "    print(f\"Erros: {erro}\")"
   ]
  },
  {
   "cell_type": "code",
   "execution_count": 477,
   "id": "43b4b1d4",
   "metadata": {},
   "outputs": [
    {
     "name": "stdout",
     "output_type": "stream",
     "text": [
      "Acertos: 667288\n",
      "Erros: 332712\n"
     ]
    }
   ],
   "source": [
    "monty_hall(troca, 1000000)"
   ]
  }
 ],
 "metadata": {
  "kernelspec": {
   "display_name": "Python 3 (ipykernel)",
   "language": "python",
   "name": "python3"
  },
  "language_info": {
   "codemirror_mode": {
    "name": "ipython",
    "version": 3
   },
   "file_extension": ".py",
   "mimetype": "text/x-python",
   "name": "python",
   "nbconvert_exporter": "python",
   "pygments_lexer": "ipython3",
   "version": "3.10.9"
  }
 },
 "nbformat": 4,
 "nbformat_minor": 5
}
