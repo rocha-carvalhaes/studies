{
 "cells": [
  {
   "cell_type": "code",
   "execution_count": 15,
   "id": "77c35912",
   "metadata": {},
   "outputs": [],
   "source": [
    "from random import randint"
   ]
  },
  {
   "cell_type": "code",
   "execution_count": 16,
   "id": "5568160b",
   "metadata": {
    "scrolled": true
   },
   "outputs": [],
   "source": [
    "# Variable of decision changing\n",
    "change = True\n",
    "\n",
    "# Number of repetitions\n",
    "reps = 1000000\n",
    "\n",
    "# Repetitions\n",
    "def monty_hall(change, reps):\n",
    "    \n",
    "    # List of results\n",
    "    aswr = []\n",
    "    \n",
    "    # Wins and Losses counter\n",
    "    win = 0\n",
    "    loss = 0\n",
    "    \n",
    "    for i in range(0, reps):\n",
    "        doors = [1, 2, 3]\n",
    "\n",
    "        # Defining right door\n",
    "        index_right = randint(0,2)\n",
    "        door_right = doors[index_right]\n",
    "\n",
    "        # Defining first guess \n",
    "        index_guess = randint(0,2)\n",
    "        guess = doors[index_guess]\n",
    "\n",
    "        # Defining wrong door (to be revealed)\n",
    "        door_wrong = doors[:]\n",
    "        door_wrong.remove(door_right)\n",
    "        if guess == door_right:\n",
    "            del door_wrong[randint(0,1)]\n",
    "        else:\n",
    "            door_wrong.remove(guess)\n",
    "        door_wrong = door_wrong[0]\n",
    "        \n",
    "        # Revealing the wrong door\n",
    "        doors.remove(door_wrong)\n",
    "        \n",
    "        # Changing guess\n",
    "        if change:\n",
    "            doors.remove(guess)\n",
    "            guess = doors[0]\n",
    "\n",
    "        # Computing results\n",
    "        if door_right == guess:\n",
    "            result = 1\n",
    "            win += 1\n",
    "        else:\n",
    "            result = 0\n",
    "            loss += 1\n",
    "\n",
    "        aswr.append(result)\n",
    "\n",
    "    print(f\"Wins: {win}\")\n",
    "    print(f\"Losses: {loss}\")"
   ]
  },
  {
   "cell_type": "code",
   "execution_count": 17,
   "id": "43b4b1d4",
   "metadata": {},
   "outputs": [
    {
     "name": "stdout",
     "output_type": "stream",
     "text": [
      "Wins: 333595\n",
      "Losses: 666405\n"
     ]
    }
   ],
   "source": [
    "monty_hall(False, 1000000)"
   ]
  }
 ],
 "metadata": {
  "kernelspec": {
   "display_name": "Python 3 (ipykernel)",
   "language": "python",
   "name": "python3"
  },
  "language_info": {
   "codemirror_mode": {
    "name": "ipython",
    "version": 3
   },
   "file_extension": ".py",
   "mimetype": "text/x-python",
   "name": "python",
   "nbconvert_exporter": "python",
   "pygments_lexer": "ipython3",
   "version": "3.10.9"
  }
 },
 "nbformat": 4,
 "nbformat_minor": 5
}
