{
 "cells": [
  {
   "cell_type": "code",
   "execution_count": 15,
   "id": "c1c9efd2",
   "metadata": {},
   "outputs": [],
   "source": [
    "import tkinter as tk\n",
    "from tkinter import filedialog"
   ]
  },
  {
   "cell_type": "code",
   "execution_count": 16,
   "id": "d1a4ab41",
   "metadata": {},
   "outputs": [
    {
     "data": {
      "text/plain": [
       "'C:/Users/lci734/OneDrive - AFRY/Documents/01_poyry/01_projetos/03_usiminas/lingotamento/As Sold/Lingotamento_AS SOLD COMPLETO-2023-06-16.xlsx'"
      ]
     },
     "execution_count": 16,
     "metadata": {},
     "output_type": "execute_result"
    }
   ],
   "source": [
    "root = tk.Tk()\n",
    "root.withdraw()\n",
    "\n",
    "as_path = filedialog.askopenfilename()\n",
    "as_path"
   ]
  },
  {
   "cell_type": "code",
   "execution_count": 17,
   "id": "42218bbe",
   "metadata": {},
   "outputs": [],
   "source": [
    "import pandas as pd"
   ]
  },
  {
   "cell_type": "code",
   "execution_count": 18,
   "id": "2e35de65",
   "metadata": {},
   "outputs": [
    {
     "name": "stdout",
     "output_type": "stream",
     "text": [
      "Digite a data de status (DD/MM/YYYY): 17/06/2023\n",
      "Data validada: 2023-06-17\n"
     ]
    }
   ],
   "source": [
    "from datetime import datetime\n",
    "\n",
    "def validar_data(prompt):\n",
    "    while True:\n",
    "        data_input = input(prompt)\n",
    "        try:\n",
    "            data_status = datetime.strptime(data_input, \"%d/%m/%Y\").date()\n",
    "            return data_status\n",
    "        except ValueError:\n",
    "            print(\"Data inválida. Por favor, digite uma data no formato DD/MM/YYYY.\")\n",
    "\n",
    "data_status = validar_data(\"Digite a data de status (DD/MM/YYYY): \")\n",
    "print(\"Data validada:\", data_status)"
   ]
  },
  {
   "cell_type": "code",
   "execution_count": 19,
   "id": "0ba57786",
   "metadata": {},
   "outputs": [
    {
     "name": "stdout",
     "output_type": "stream",
     "text": [
      "Digite o Nº do Projeto (1090XXXXX-XXX): 109004000-001\n",
      "Nº do Projeto validado: 109004000-001\n"
     ]
    }
   ],
   "source": [
    "def validar_projeto(prompt):\n",
    "    while True:\n",
    "        projeto_input = input(prompt)\n",
    "        if len(projeto_input) == 13:\n",
    "            projeto = projeto_input\n",
    "            return projeto\n",
    "        else:\n",
    "            print('Nº do Projeto inválido. Por favor, digite novamente.')\n",
    "        \n",
    "projeto = validar_projeto('Digite o Nº do Projeto (1090XXXXX-XXX): ')\n",
    "print('Nº do Projeto validado:',projeto )"
   ]
  },
  {
   "cell_type": "code",
   "execution_count": 20,
   "id": "2d45e48a",
   "metadata": {},
   "outputs": [],
   "source": [
    "tipo = \"AS SOLD\""
   ]
  },
  {
   "cell_type": "code",
   "execution_count": 21,
   "id": "8d765d63",
   "metadata": {},
   "outputs": [],
   "source": [
    "import sqlite3 as sql"
   ]
  },
  {
   "cell_type": "code",
   "execution_count": 22,
   "id": "1ab0ac1e",
   "metadata": {},
   "outputs": [],
   "source": [
    "con = sql.connect('teste_00.db')\n",
    "cur = con.cursor()"
   ]
  },
  {
   "cell_type": "code",
   "execution_count": 23,
   "id": "767104d1",
   "metadata": {},
   "outputs": [],
   "source": [
    "# criar data frame do as sold com nomes das colunas\n",
    "df = pd.read_excel(as_path)\n",
    "df = df[['Unnamed: 1', 'Unnamed: 8', 'Unnamed: 10', 'Unnamed: 11']]\n",
    "df.columns = ['hours', 'activity', 'category', 'base_cost']\n",
    "df = df.loc[(df.activity.notnull()) & (df.activity != 'Activity')]"
   ]
  },
  {
   "cell_type": "code",
   "execution_count": 24,
   "id": "260c9fe1",
   "metadata": {
    "scrolled": false
   },
   "outputs": [],
   "source": [
    "# pegar id_activity\n",
    "cur.execute(\"SELECT * FROM activities\")\n",
    "activities = cur.fetchall()\n",
    "activities = pd.DataFrame(activities)\n",
    "activities.columns = ['id_activity', 'activity', 'indice', 'unidade', 'id_disciplina']\n",
    "activities.head()\n",
    "\n",
    "df = df.merge(activities[['activity', 'id_activity']], \n",
    "                           left_on='activity', \n",
    "                           right_on='activity',\n",
    "                           how='left')\n",
    "\n",
    "df.id_activity = df.id_activity.astype('object')"
   ]
  },
  {
   "cell_type": "code",
   "execution_count": 25,
   "id": "8c0d9d52",
   "metadata": {
    "scrolled": true
   },
   "outputs": [
    {
     "data": {
      "text/plain": [
       "<sqlite3.Cursor at 0x1bae44f5f40>"
      ]
     },
     "execution_count": 25,
     "metadata": {},
     "output_type": "execute_result"
    }
   ],
   "source": [
    "# inserir categorias novas na tabela categorias\n",
    "categorias_ineditas = []\n",
    "for value in list(zip(df.category.values, df.id_activity.values,)):\n",
    "    cur.execute(\"SELECT COUNT(*) FROM categorias WHERE categoria = ? AND id_activity = ?\", value)\n",
    "    count = cur.fetchone()[0]\n",
    "    if count == 0:\n",
    "        categorias_ineditas.append(value)\n",
    "        \n",
    "categorias_ineditas = list(set(categorias_ineditas))\n",
    "cur.executemany(\"INSERT INTO categorias (categoria, id_activity) VALUES (?, ?)\", categorias_ineditas) "
   ]
  },
  {
   "cell_type": "code",
   "execution_count": 26,
   "id": "15823973",
   "metadata": {},
   "outputs": [],
   "source": [
    "cur.execute(\"SELECT * FROM categorias\")\n",
    "categorias = pd.DataFrame(cur.fetchall())\n",
    "categorias.columns = ['id_categoria', 'categoria', 'id_activity']\n",
    "\n",
    "df = df.merge(categorias[['categoria', 'id_activity', 'id_categoria']], \n",
    "                           left_on=['category','id_activity'], \n",
    "                           right_on=['categoria','id_activity'],\n",
    "                           how='left')\n",
    "\n",
    "df.id_categoria = df.id_categoria.astype('object')"
   ]
  },
  {
   "cell_type": "code",
   "execution_count": 27,
   "id": "f418f264",
   "metadata": {
    "scrolled": true
   },
   "outputs": [
    {
     "name": "stdout",
     "output_type": "stream",
     "text": [
      "Registro inserido\n",
      "AS SOLD inserido\n"
     ]
    }
   ],
   "source": [
    "# inserir projeto na tabela projetos, caso não exista\n",
    "insert_query = \"INSERT OR IGNORE INTO projetos (n_projeto) VALUES (?)\"\n",
    "cur.execute(insert_query, (projeto,))\n",
    "\n",
    "query = \"SELECT * FROM projetos WHERE n_projeto = ?\"\n",
    "cur.execute(query, (projeto,))\n",
    "id_projeto = cur.fetchall()[0][1]\n",
    "\n",
    "# inserir registro na tabela registros, caso não exista\n",
    "check_query = \"SELECT COUNT(*) FROM registros WHERE id_projeto = ? AND data_status = ? AND tipo = ?\"\n",
    "cur.execute(check_query, (id_projeto, data_status, tipo,))\n",
    "unico = cur.fetchall()[0][0]\n",
    "\n",
    "if unico == 0:\n",
    "    insert_query = \"INSERT OR IGNORE INTO registros (id_projeto, data_status, tipo) VALUES (?, ?, ?)\"\n",
    "    cur.execute(insert_query, (id_projeto, data_status, tipo,))\n",
    "    print('Registro inserido')\n",
    "else:\n",
    "    print('Registro já existente.')\n",
    "\n",
    "# inserir custo na tabela custos, caso não existam\n",
    "query = \"SELECT * FROM registros WHERE id_projeto = ? AND data_status = ? AND tipo = ?\"\n",
    "cur.execute(query, (id_projeto, data_status, tipo,))\n",
    "id_registro = cur.fetchall()[0][0]\n",
    "\n",
    "check_query = \"SELECT COUNT(*) FROM custos WHERE id_registro = ?\"\n",
    "cur.execute(check_query, (id_registro,))\n",
    "unico = cur.fetchall()[0][0]\n",
    "\n",
    "if unico == 0:  \n",
    "    id_categoria = df.id_categoria.values  \n",
    "    base_cost = df.base_cost.values  \n",
    "    quantidade = df.hours.values\n",
    "    id_registro = [id_registro] * len(id_categoria)   \n",
    "    \n",
    "    insert_query = \"\"\"INSERT INTO custos \n",
    "    (\n",
    "    id_categoria,\n",
    "    base_cost,\n",
    "    quantidade,\n",
    "    id_registro\n",
    "    )\n",
    "    VALUES\n",
    "    (?, ?, ?, ?)\"\"\"\n",
    "    cur.executemany(insert_query, list(zip(id_categoria, base_cost, quantidade, id_registro,)))\n",
    "    print('AS SOLD inserido')\n",
    "else:\n",
    "    print('AS SOLD já existente.')"
   ]
  },
  {
   "cell_type": "code",
   "execution_count": 28,
   "id": "f82b8e0c",
   "metadata": {},
   "outputs": [],
   "source": [
    "con.commit()\n",
    "con.close()"
   ]
  }
 ],
 "metadata": {
  "kernelspec": {
   "display_name": "Python 3 (ipykernel)",
   "language": "python",
   "name": "python3"
  },
  "language_info": {
   "codemirror_mode": {
    "name": "ipython",
    "version": 3
   },
   "file_extension": ".py",
   "mimetype": "text/x-python",
   "name": "python",
   "nbconvert_exporter": "python",
   "pygments_lexer": "ipython3",
   "version": "3.10.9"
  }
 },
 "nbformat": 4,
 "nbformat_minor": 5
}
