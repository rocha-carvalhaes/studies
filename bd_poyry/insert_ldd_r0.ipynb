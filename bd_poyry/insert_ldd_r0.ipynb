{
 "cells": [
  {
   "cell_type": "code",
   "execution_count": 25,
   "id": "0e46d313",
   "metadata": {},
   "outputs": [],
   "source": [
    "import tkinter as tk\n",
    "from tkinter import filedialog"
   ]
  },
  {
   "cell_type": "code",
   "execution_count": 26,
   "id": "d3a89b58",
   "metadata": {},
   "outputs": [
    {
     "data": {
      "text/plain": [
       "'C:/Users/lci734/OneDrive - AFRY/Documents/01_poyry/01_projetos/02_ternium/2023 07 04 - LDD - FUNDAÇÃO REGENERADORES - REV01.xlsx'"
      ]
     },
     "execution_count": 26,
     "metadata": {},
     "output_type": "execute_result"
    }
   ],
   "source": [
    "root = tk.Tk()\n",
    "root.withdraw()\n",
    "\n",
    "ld_path = filedialog.askopenfilename()\n",
    "ld_path"
   ]
  },
  {
   "cell_type": "markdown",
   "id": "f43b31b7",
   "metadata": {},
   "source": [
    "### Verificar se o registro já existe (com base no projeto e na data de status da LDD)\n",
    "### Caso já exista, perguntar se deseja substituir valores (se sim, apagar existente e inserir novo)\n",
    "### Caso não exista, apenas inserir valores"
   ]
  },
  {
   "cell_type": "code",
   "execution_count": 27,
   "id": "4c230e46",
   "metadata": {},
   "outputs": [],
   "source": [
    "import pandas as pd"
   ]
  },
  {
   "cell_type": "code",
   "execution_count": 28,
   "id": "39c0fc2b",
   "metadata": {},
   "outputs": [
    {
     "data": {
      "text/html": [
       "<div>\n",
       "<style scoped>\n",
       "    .dataframe tbody tr th:only-of-type {\n",
       "        vertical-align: middle;\n",
       "    }\n",
       "\n",
       "    .dataframe tbody tr th {\n",
       "        vertical-align: top;\n",
       "    }\n",
       "\n",
       "    .dataframe thead th {\n",
       "        text-align: right;\n",
       "    }\n",
       "</style>\n",
       "<table border=\"1\" class=\"dataframe\">\n",
       "  <thead>\n",
       "    <tr style=\"text-align: right;\">\n",
       "      <th></th>\n",
       "      <th>projeto</th>\n",
       "      <th>disciplina</th>\n",
       "      <th>n_poyry</th>\n",
       "      <th>n_cliente</th>\n",
       "      <th>avanco</th>\n",
       "      <th>a1eq_bl</th>\n",
       "      <th>a1eq_rp</th>\n",
       "    </tr>\n",
       "  </thead>\n",
       "  <tbody>\n",
       "    <tr>\n",
       "      <th>0</th>\n",
       "      <td>109003106-002</td>\n",
       "      <td>CONCRETO</td>\n",
       "      <td>AF01-E-0602</td>\n",
       "      <td>CS.AF01.REGS.GRAL-HME10040_0A</td>\n",
       "      <td>1</td>\n",
       "      <td>11.25</td>\n",
       "      <td>1.75</td>\n",
       "    </tr>\n",
       "    <tr>\n",
       "      <th>1</th>\n",
       "      <td>109003106-002</td>\n",
       "      <td>CONCRETO</td>\n",
       "      <td>AF01-E-0601</td>\n",
       "      <td>CS.AF01.REGS.GRAL-HRL10041_0A</td>\n",
       "      <td>1</td>\n",
       "      <td>1.625</td>\n",
       "      <td>1.625</td>\n",
       "    </tr>\n",
       "    <tr>\n",
       "      <th>2</th>\n",
       "      <td>109003106-002</td>\n",
       "      <td>CONCRETO</td>\n",
       "      <td>AF01-Z-0600</td>\n",
       "      <td>CS.AF01.REGS.GRAL-HCA10031_0A</td>\n",
       "      <td>1</td>\n",
       "      <td>2.5</td>\n",
       "      <td>5.375</td>\n",
       "    </tr>\n",
       "    <tr>\n",
       "      <th>3</th>\n",
       "      <td>109003106-002</td>\n",
       "      <td>CONCRETO</td>\n",
       "      <td>AF01-C04-0001</td>\n",
       "      <td>CS.AF01.REGS.GRAL-HFO10001_0A</td>\n",
       "      <td>1</td>\n",
       "      <td>1</td>\n",
       "      <td>1</td>\n",
       "    </tr>\n",
       "    <tr>\n",
       "      <th>4</th>\n",
       "      <td>109003106-002</td>\n",
       "      <td>CONCRETO</td>\n",
       "      <td>AF01-C04-0002</td>\n",
       "      <td>CS.AF01.REGS.GRAL-HFU10021_0A</td>\n",
       "      <td>1</td>\n",
       "      <td>1</td>\n",
       "      <td>1</td>\n",
       "    </tr>\n",
       "  </tbody>\n",
       "</table>\n",
       "</div>"
      ],
      "text/plain": [
       "         projeto disciplina        n_poyry                      n_cliente  \\\n",
       "0  109003106-002   CONCRETO    AF01-E-0602  CS.AF01.REGS.GRAL-HME10040_0A   \n",
       "1  109003106-002   CONCRETO    AF01-E-0601  CS.AF01.REGS.GRAL-HRL10041_0A   \n",
       "2  109003106-002   CONCRETO    AF01-Z-0600  CS.AF01.REGS.GRAL-HCA10031_0A   \n",
       "3  109003106-002   CONCRETO  AF01-C04-0001  CS.AF01.REGS.GRAL-HFO10001_0A   \n",
       "4  109003106-002   CONCRETO  AF01-C04-0002  CS.AF01.REGS.GRAL-HFU10021_0A   \n",
       "\n",
       "  avanco a1eq_bl a1eq_rp  \n",
       "0      1   11.25    1.75  \n",
       "1      1   1.625   1.625  \n",
       "2      1     2.5   5.375  \n",
       "3      1       1       1  \n",
       "4      1       1       1  "
      ]
     },
     "execution_count": 28,
     "metadata": {},
     "output_type": "execute_result"
    }
   ],
   "source": [
    "df =  pd.read_excel(ld_path, sheet_name='GERAL Unificadas')\n",
    "ldd_start = df.loc[df['Unnamed: 1'] == 'PROJETO'].index[0] + 1\n",
    "df = df.iloc[ldd_start: , :34]\n",
    "df.columns = ['bcodigo_id','projeto','n_ficha','disciplina','n_poyry',\n",
    "              'n_cliente','area','nome_area','fase_projeto','titulo',\n",
    "              'inicio_bl','termino_bl','inicio_rp','termino_rp',\n",
    "              'revisao_inicial','data_emissao_inicial','revisao_ultima',\n",
    "              'data_emissao_ultima','status_emissao','grd','folhas_previstas',\n",
    "              'folhas_executadas','formato','a1eq_bl','a1eq_rp','avanco',\n",
    "              'a1eq_real','status_comentario','revisao_retorno','data_retorno',\n",
    "              'status_retorno','status_cliente','obs','marco']\n",
    "df = df[['projeto', 'disciplina', 'n_poyry', 'n_cliente', 'avanco', 'a1eq_bl', 'a1eq_rp', ]].reset_index(drop = True)\n",
    "\n",
    "\n",
    "\n",
    "df.head()"
   ]
  },
  {
   "cell_type": "code",
   "execution_count": 29,
   "id": "5b6b3d28",
   "metadata": {},
   "outputs": [],
   "source": [
    "projeto = df.projeto[0]"
   ]
  },
  {
   "cell_type": "code",
   "execution_count": 30,
   "id": "6c528e3f",
   "metadata": {
    "scrolled": true
   },
   "outputs": [
    {
     "name": "stdout",
     "output_type": "stream",
     "text": [
      "Digite a data de status (DD/MM/YYYY): 04/07/2023\n",
      "Data validada: 2023-07-04\n"
     ]
    }
   ],
   "source": [
    "from datetime import datetime\n",
    "\n",
    "def validar_data(prompt):\n",
    "    while True:\n",
    "        data_input = input(prompt)\n",
    "        try:\n",
    "            data_status = datetime.strptime(data_input, \"%d/%m/%Y\").date()\n",
    "            return data_status\n",
    "        except ValueError:\n",
    "            print(\"Data inválida. Por favor, digite uma data no formato DD/MM/YYYY.\")\n",
    "\n",
    "data_status = validar_data(\"Digite a data de status (DD/MM/YYYY): \")\n",
    "print(\"Data validada:\", data_status)"
   ]
  },
  {
   "cell_type": "code",
   "execution_count": 31,
   "id": "522b29a2",
   "metadata": {},
   "outputs": [],
   "source": [
    "tipo = 'LISTA DE DESENHOS E DOCUMENTOS'"
   ]
  },
  {
   "cell_type": "code",
   "execution_count": 32,
   "id": "1bf0ab55",
   "metadata": {},
   "outputs": [],
   "source": [
    "import sqlite3 as sql\n",
    "import numpy as np"
   ]
  },
  {
   "cell_type": "code",
   "execution_count": 33,
   "id": "40dbb41a",
   "metadata": {},
   "outputs": [],
   "source": [
    "con = sql.connect('teste_00.db')\n",
    "cur = con.cursor()"
   ]
  },
  {
   "cell_type": "code",
   "execution_count": 34,
   "id": "90793081",
   "metadata": {
    "scrolled": true
   },
   "outputs": [],
   "source": [
    "# Pegando id_disciplina\n",
    "cur.execute(\"SELECT * FROM disciplinas\")\n",
    "disciplinas = cur.fetchall()\n",
    "disciplinas = pd.DataFrame(disciplinas)\n",
    "disciplinas.columns = ['id_disciplina', 'disciplina']\n",
    "disciplinas.head()\n",
    "\n",
    "df = df.merge(disciplinas[['disciplina', 'id_disciplina']], \n",
    "                           left_on='disciplina', \n",
    "                           right_on='disciplina',\n",
    "                           how='left')\n",
    "\n",
    "df.id_disciplina = df.id_disciplina.astype('object')"
   ]
  },
  {
   "cell_type": "code",
   "execution_count": 35,
   "id": "4a570824",
   "metadata": {
    "scrolled": true
   },
   "outputs": [
    {
     "name": "stdout",
     "output_type": "stream",
     "text": [
      "Registro inserido\n",
      "LDD inserida\n"
     ]
    }
   ],
   "source": [
    "# Inserindo projeto na tabela projetos\n",
    "insert_query = \"INSERT OR IGNORE INTO projetos (n_projeto) VALUES (?)\"\n",
    "cur.execute(insert_query, (projeto,))\n",
    "\n",
    "query = \"SELECT * FROM projetos WHERE n_projeto = ?\"\n",
    "cur.execute(query, (projeto,))\n",
    "id_projeto = cur.fetchall()[0][1]\n",
    "\n",
    "# Inserindo registro na tabela registros\n",
    "check_query = \"SELECT COUNT(*) FROM registros WHERE id_projeto = ? AND data_status = ? AND tipo = ?\"\n",
    "cur.execute(check_query, (id_projeto, data_status, tipo,))\n",
    "unico = cur.fetchall()[0][0]\n",
    "\n",
    "if unico == 0:\n",
    "    insert_query = \"INSERT OR IGNORE INTO registros (id_projeto, data_status, tipo) VALUES (?, ?, ?)\"\n",
    "    cur.execute(insert_query, (id_projeto, data_status, tipo,))\n",
    "    print('Registro inserido')\n",
    "else:\n",
    "    print('Registro já existente.')\n",
    "\n",
    "# Inserindo LDD na tabela documentos\n",
    "query = \"SELECT * FROM registros WHERE id_projeto = ? AND data_status = ? AND tipo = ?\"\n",
    "cur.execute(query, (id_projeto, data_status, tipo,))\n",
    "id_registro = cur.fetchall()[0][0]\n",
    "\n",
    "check_query = \"SELECT COUNT(*) FROM documentos WHERE id_registro = ?\"\n",
    "cur.execute(check_query, (id_registro,))\n",
    "unico = cur.fetchall()[0][0]\n",
    "\n",
    "if unico == 0:\n",
    "    n_poyry = df.n_poyry.values\n",
    "    n_cliente = df.n_cliente.values\n",
    "    avanco = df.avanco.values\n",
    "    a1eq_bl = df.a1eq_bl.values\n",
    "    a1eq_rp = df.a1eq_rp.values\n",
    "    id_disciplina = df.id_disciplina.values\n",
    "    id_registro = [id_registro] * len(n_cliente)    \n",
    "    \n",
    "    insert_query = \"\"\"INSERT INTO documentos \n",
    "    (\n",
    "    n_poyry,\n",
    "    n_cliente,\n",
    "    avanco,\n",
    "    a1eq_bl,\n",
    "    a1eq_rp,\n",
    "    id_disciplina,\n",
    "    id_registro\n",
    "    )\n",
    "    VALUES\n",
    "    (?, ?, ?, ?, ?, ?, ?)\"\"\"\n",
    "    cur.executemany(insert_query, list(zip(n_poyry, n_cliente, avanco, a1eq_bl, a1eq_rp, id_disciplina, id_registro,)))\n",
    "    print('LDD inserida')\n",
    "else:\n",
    "    print('LDD já existente.')"
   ]
  },
  {
   "cell_type": "code",
   "execution_count": 36,
   "id": "f60ee70d",
   "metadata": {},
   "outputs": [],
   "source": [
    "con.commit()\n",
    "con.close()"
   ]
  },
  {
   "cell_type": "markdown",
   "id": "d9851dfa",
   "metadata": {},
   "source": [
    "#### Recuperar valores da tabela \"disciplinas\" e respectivo id_disciplina\n",
    "#### Merge do id_disciplina com tabela documentos"
   ]
  },
  {
   "cell_type": "markdown",
   "id": "102debf5",
   "metadata": {},
   "source": [
    "#### Recuperar Nº do Projeto a partir da LDD\n",
    "#### Inserir projeto na tabela \"projetos\""
   ]
  },
  {
   "cell_type": "markdown",
   "id": "774e1b14",
   "metadata": {},
   "source": [
    "#### Recuperar id_projeto"
   ]
  },
  {
   "cell_type": "markdown",
   "id": "588ca5e5",
   "metadata": {},
   "source": [
    "#### Inserir na tabela \"registros\""
   ]
  },
  {
   "cell_type": "markdown",
   "id": "cd4bb3c0",
   "metadata": {},
   "source": [
    "#### Recuperar id_registro"
   ]
  },
  {
   "cell_type": "markdown",
   "id": "b870a087",
   "metadata": {},
   "source": [
    "#### Inserir na tabela \"documentos\""
   ]
  },
  {
   "cell_type": "code",
   "execution_count": null,
   "id": "68d07349",
   "metadata": {},
   "outputs": [],
   "source": []
  }
 ],
 "metadata": {
  "kernelspec": {
   "display_name": "Python 3 (ipykernel)",
   "language": "python",
   "name": "python3"
  },
  "language_info": {
   "codemirror_mode": {
    "name": "ipython",
    "version": 3
   },
   "file_extension": ".py",
   "mimetype": "text/x-python",
   "name": "python",
   "nbconvert_exporter": "python",
   "pygments_lexer": "ipython3",
   "version": "3.10.9"
  }
 },
 "nbformat": 4,
 "nbformat_minor": 5
}
