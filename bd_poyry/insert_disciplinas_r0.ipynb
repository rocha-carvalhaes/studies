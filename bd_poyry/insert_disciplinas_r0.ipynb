{
 "cells": [
  {
   "cell_type": "code",
   "execution_count": 1,
   "id": "0fc0c384",
   "metadata": {},
   "outputs": [],
   "source": [
    "import sqlite3 as sql"
   ]
  },
  {
   "cell_type": "code",
   "execution_count": 2,
   "id": "98bc1c06",
   "metadata": {},
   "outputs": [],
   "source": [
    "con = sql.connect('teste_00.db')\n",
    "cur = con.cursor()"
   ]
  },
  {
   "cell_type": "code",
   "execution_count": 3,
   "id": "04824138",
   "metadata": {},
   "outputs": [],
   "source": [
    "disciplina = [['PROCESSO'],['SISTEMAS'],['MECÂNICA'],['TUBULAÇÃO'],\n",
    "              ['ARQUITETURA'],['INFRAESTRUTURA'],['ESTRUTURAS METÁLICAS'],\n",
    "              ['CONCRETO'],['ELÉTRICA'],['INSTRUMENTAÇÃO'],['AUTOMAÇÃO'],\n",
    "              ['ENGENHARIA DIGITAL'],['CONSTRUTIBILIDADE'],['ESTUDOS'],\n",
    "              ['SUPRIMENTOS'],['ENGENHARIA ECONÔMICA'],['PRODUCT DEVELOPMENT'],\n",
    "              ['GERÊNCIA'],['PLANEJAMENTO'],['DIVERSOS']\n",
    "             ]"
   ]
  },
  {
   "cell_type": "code",
   "execution_count": 4,
   "id": "d4858f05",
   "metadata": {
    "scrolled": true
   },
   "outputs": [
    {
     "data": {
      "text/plain": [
       "<sqlite3.Cursor at 0x1ed6bbe56c0>"
      ]
     },
     "execution_count": 4,
     "metadata": {},
     "output_type": "execute_result"
    }
   ],
   "source": [
    "insert_query = \"INSERT OR IGNORE INTO disciplinas (disciplina) VALUES (?)\"\n",
    "cur.executemany(insert_query, list(disciplina,))"
   ]
  },
  {
   "cell_type": "code",
   "execution_count": 5,
   "id": "ca4e30f0",
   "metadata": {},
   "outputs": [],
   "source": [
    "con.commit()\n",
    "con.close()"
   ]
  },
  {
   "cell_type": "code",
   "execution_count": null,
   "id": "3739ce56",
   "metadata": {},
   "outputs": [],
   "source": []
  }
 ],
 "metadata": {
  "kernelspec": {
   "display_name": "Python 3 (ipykernel)",
   "language": "python",
   "name": "python3"
  },
  "language_info": {
   "codemirror_mode": {
    "name": "ipython",
    "version": 3
   },
   "file_extension": ".py",
   "mimetype": "text/x-python",
   "name": "python",
   "nbconvert_exporter": "python",
   "pygments_lexer": "ipython3",
   "version": "3.10.9"
  }
 },
 "nbformat": 4,
 "nbformat_minor": 5
}
