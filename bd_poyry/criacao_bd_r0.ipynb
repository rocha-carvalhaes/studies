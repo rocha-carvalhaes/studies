{
 "cells": [
  {
   "cell_type": "code",
   "execution_count": 2,
   "id": "efc81c34",
   "metadata": {},
   "outputs": [],
   "source": [
    "import pandas as pd"
   ]
  },
  {
   "cell_type": "code",
   "execution_count": 1,
   "id": "297bd14f",
   "metadata": {},
   "outputs": [],
   "source": [
    "import sqlite3 as sql"
   ]
  },
  {
   "cell_type": "code",
   "execution_count": 13,
   "id": "b0d57329",
   "metadata": {},
   "outputs": [],
   "source": [
    "con = sql.connect('teste_00.db')"
   ]
  },
  {
   "cell_type": "code",
   "execution_count": 14,
   "id": "cfa15620",
   "metadata": {},
   "outputs": [],
   "source": [
    "cur = con.cursor()"
   ]
  },
  {
   "cell_type": "code",
   "execution_count": 15,
   "id": "5fde8a43",
   "metadata": {
    "scrolled": true
   },
   "outputs": [
    {
     "data": {
      "text/plain": [
       "<sqlite3.Cursor at 0x182556a5dc0>"
      ]
     },
     "execution_count": 15,
     "metadata": {},
     "output_type": "execute_result"
    }
   ],
   "source": [
    "con.execute('PRAGMA foreign_keys = ON')"
   ]
  },
  {
   "cell_type": "code",
   "execution_count": 7,
   "id": "434cc227",
   "metadata": {},
   "outputs": [
    {
     "data": {
      "text/plain": [
       "<sqlite3.Cursor at 0x20810a32c40>"
      ]
     },
     "execution_count": 7,
     "metadata": {},
     "output_type": "execute_result"
    }
   ],
   "source": [
    "cur.execute(\"\"\"CREATE TABLE projetos \n",
    "(\n",
    "n_projeto TEXT UNIQUE,  \n",
    "id_projeto INTEGER PRIMARY KEY AUTOINCREMENT\n",
    ")\n",
    "\"\"\")"
   ]
  },
  {
   "cell_type": "markdown",
   "id": "6c03524d",
   "metadata": {},
   "source": [
    "### Recuperar o id_projeto para ser inserido no registro"
   ]
  },
  {
   "cell_type": "code",
   "execution_count": 8,
   "id": "2742be97",
   "metadata": {},
   "outputs": [
    {
     "data": {
      "text/plain": [
       "<sqlite3.Cursor at 0x20810a32c40>"
      ]
     },
     "execution_count": 8,
     "metadata": {},
     "output_type": "execute_result"
    }
   ],
   "source": [
    "cur.execute(\"\"\"CREATE TABLE registros \n",
    "( \n",
    "id_registro INTEGER PRIMARY KEY AUTOINCREMENT,\n",
    "id_projeto INTEGER,\n",
    "data_status TEXT,\n",
    "tipo TEXT,\n",
    "FOREIGN KEY (id_projeto) REFERENCES projetos(id_projeto)\n",
    ")\n",
    "\"\"\")"
   ]
  },
  {
   "cell_type": "markdown",
   "id": "84d06ad3",
   "metadata": {},
   "source": [
    "### Recuperar o id_registro para ser inserido no documento"
   ]
  },
  {
   "cell_type": "code",
   "execution_count": 9,
   "id": "77023d50",
   "metadata": {
    "scrolled": true
   },
   "outputs": [
    {
     "data": {
      "text/plain": [
       "<sqlite3.Cursor at 0x20810a32c40>"
      ]
     },
     "execution_count": 9,
     "metadata": {},
     "output_type": "execute_result"
    }
   ],
   "source": [
    "cur.execute(\"\"\"CREATE TABLE disciplinas \n",
    "( \n",
    "id_disciplina INTEGER PRIMARY KEY AUTOINCREMENT,  \n",
    "disciplina TEXT UNIQUE\n",
    ")\n",
    "\"\"\")"
   ]
  },
  {
   "cell_type": "code",
   "execution_count": 10,
   "id": "17b9bfd9",
   "metadata": {},
   "outputs": [
    {
     "data": {
      "text/plain": [
       "<sqlite3.Cursor at 0x20810a32c40>"
      ]
     },
     "execution_count": 10,
     "metadata": {},
     "output_type": "execute_result"
    }
   ],
   "source": [
    "cur.execute(\"\"\"CREATE TABLE activities \n",
    "( \n",
    "id_activity INTEGER PRIMARY KEY AUTOINCREMENT,\n",
    "activity TEXT UNIQUE,\n",
    "indice INTEGER,\n",
    "unidade TEXT,\n",
    "id_disciplina INTEGER,\n",
    "FOREIGN KEY (id_disciplina) REFERENCES disciplinas(id_disciplina)\n",
    ")\n",
    "\"\"\")"
   ]
  },
  {
   "cell_type": "code",
   "execution_count": 11,
   "id": "5a1888f4",
   "metadata": {},
   "outputs": [
    {
     "data": {
      "text/plain": [
       "<sqlite3.Cursor at 0x20810a32c40>"
      ]
     },
     "execution_count": 11,
     "metadata": {},
     "output_type": "execute_result"
    }
   ],
   "source": [
    "cur.execute(\"\"\"CREATE TABLE categorias\n",
    "(\n",
    "id_categoria INTEGER PRIMARY KEY AUTOINCREMENT,\n",
    "categoria TEXT,\n",
    "id_activity INTEGER,\n",
    "FOREIGN KEY (id_activity) REFERENCES activities(id_activity)\n",
    ")\n",
    "\"\"\")"
   ]
  },
  {
   "cell_type": "markdown",
   "id": "5c7ddd27",
   "metadata": {},
   "source": [
    "### Recuperar o id_disciplinas para ser inserido no documento"
   ]
  },
  {
   "cell_type": "code",
   "execution_count": 12,
   "id": "9376d83d",
   "metadata": {
    "scrolled": true
   },
   "outputs": [
    {
     "data": {
      "text/plain": [
       "<sqlite3.Cursor at 0x20810a32c40>"
      ]
     },
     "execution_count": 12,
     "metadata": {},
     "output_type": "execute_result"
    }
   ],
   "source": [
    "cur.execute(\"\"\"CREATE TABLE documentos \n",
    "(  \n",
    "n_poyry TEXT,\n",
    "n_cliente TEXT PRIMARY KEY,\n",
    "avanco REAL,  \n",
    "a1eq_bl REAL,\n",
    "a1eq_rp REAL,\n",
    "id_disciplina INTEGER,  \n",
    "id_registro INTEGER,\n",
    "FOREIGN KEY (id_disciplina) REFERENCES disciplinas(id_disciplina),\n",
    "FOREIGN KEY (id_registro) REFERENCES registros(id_registro)\n",
    ")\n",
    "\"\"\")"
   ]
  },
  {
   "cell_type": "code",
   "execution_count": 13,
   "id": "e2278ce8",
   "metadata": {},
   "outputs": [
    {
     "data": {
      "text/plain": [
       "<sqlite3.Cursor at 0x20810a32c40>"
      ]
     },
     "execution_count": 13,
     "metadata": {},
     "output_type": "execute_result"
    }
   ],
   "source": [
    "cur.execute(\"\"\"CREATE TABLE custos\n",
    "( \n",
    "id_custo INTEGER PRIMARY KEY AUTOINCREMENT,  \n",
    "base_cost REAL,  \n",
    "quantidade REAL,    \n",
    "id_categoria INTEGER,  \n",
    "id_registro INTEGER,\n",
    "FOREIGN KEY (id_categoria) REFERENCES categorias(id_categoria),\n",
    "FOREIGN KEY (id_registro) REFERENCES registros(id_registro)\n",
    ")\n",
    "\"\"\")"
   ]
  },
  {
   "cell_type": "code",
   "execution_count": 14,
   "id": "286b08a7",
   "metadata": {},
   "outputs": [
    {
     "data": {
      "text/plain": [
       "<sqlite3.Cursor at 0x20810a32c40>"
      ]
     },
     "execution_count": 14,
     "metadata": {},
     "output_type": "execute_result"
    }
   ],
   "source": [
    "\n",
    "\n",
    "cur.execute(\"\"\"CREATE TABLE maconomy\n",
    "( \n",
    "id_maconomy INTEGER PRIMARY KEY AUTOINCREMENT,\n",
    "id_registro INTEGER,\n",
    "entry_no INTEGER,\n",
    "entry_date TEXT,\n",
    "employee_name TEXT,\n",
    "id_categoria INTEGER,\n",
    "task TEXT,\n",
    "quantidade REAL,\n",
    "base_cost REAL,\n",
    "cost_reg REAL,\n",
    "subprojeto TEXT,\n",
    "FOREIGN KEY (id_categoria) REFERENCES categorias(id_categoria),\n",
    "FOREIGN KEY (id_registro) REFERENCES registros(id_registro)\n",
    ")\n",
    "\"\"\")"
   ]
  },
  {
   "cell_type": "code",
   "execution_count": 20,
   "id": "4cc6d99e",
   "metadata": {},
   "outputs": [],
   "source": [
    "con.commit()\n",
    "con.close()"
   ]
  },
  {
   "cell_type": "code",
   "execution_count": null,
   "id": "90ad56e7",
   "metadata": {},
   "outputs": [],
   "source": []
  }
 ],
 "metadata": {
  "kernelspec": {
   "display_name": "Python 3 (ipykernel)",
   "language": "python",
   "name": "python3"
  },
  "language_info": {
   "codemirror_mode": {
    "name": "ipython",
    "version": 3
   },
   "file_extension": ".py",
   "mimetype": "text/x-python",
   "name": "python",
   "nbconvert_exporter": "python",
   "pygments_lexer": "ipython3",
   "version": "3.10.9"
  }
 },
 "nbformat": 4,
 "nbformat_minor": 5
}
