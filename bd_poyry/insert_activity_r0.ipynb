{
 "cells": [
  {
   "cell_type": "code",
   "execution_count": 1,
   "id": "90bb6044",
   "metadata": {},
   "outputs": [],
   "source": [
    "import pandas as pd\n",
    "import sqlite3 as sql"
   ]
  },
  {
   "cell_type": "code",
   "execution_count": 2,
   "id": "7583feb8",
   "metadata": {},
   "outputs": [],
   "source": [
    "con = sql.connect('teste_00.db')\n",
    "cur = con.cursor()"
   ]
  },
  {
   "cell_type": "code",
   "execution_count": 3,
   "id": "2f78035c",
   "metadata": {},
   "outputs": [],
   "source": [
    "activity = [\n",
    "            'P - PROCESS ENGINEERING', 'V - HVAC & SANITARY SYSTEM DESIGN', 'M - MECHANICAL ENGINEERING', \n",
    "            'T - PIPING ENGINEERING', 'L - CIVIL - ARQUITETURA', 'L - ARCHITECTURAL DESIGN', 'W - INFRA SERVICES', \n",
    "            'B - CIVIL - METÁLICA', 'B - ENGINEERING SERVICES', 'C - CIVIL - CONCRETO', 'C - CIVIL ENGINEERING', \n",
    "            'E - ELECTRICAL ENGINEERING', 'I - INSTRUMENT / PROCESS CONTROL ENGINEERING', 'J - AUTOMATION SYSTEM ENGINEERING', \n",
    "            'R - ADP SERVICES', 'F - CONSTR. MANAGEMENT SERVICES', 'JD - DIGITALISATION', 'G - STUDY AND RESEARCH SERVICES', \n",
    "            'H - PROCUREMENT', 'K - INVESTMENT COST ESTIM. & CONTROL', 'D - PRODUCT DEVELOPMENT', 'A - PROJECT MANAGEMENT', \n",
    "            'S - PROJECT PLANNING & FOLLOW-UP', 'Miscellaneous costs', 'Revenue evaluation', 'Travel costs', \n",
    "            'U - TRAINING SERVICES', 'Subconsulting,  other expenses external', 'Y - HEALTH & SAFETY', \n",
    "            'External Time, billable' \n",
    "           ]\n",
    "\n",
    "disciplina = [\n",
    "              'PROCESSO', 'SISTEMAS', 'MECÂNICA', 'TUBULAÇÃO', 'ARQUITETURA', 'ARQUITETURA', 'INFRAESTRUTURA',\n",
    "              'ESTRUTURAS METÁLICAS', 'ESTRUTURAS METÁLICAS', 'CONCRETO', 'CONCRETO', 'ELÉTRICA', 'INSTRUMENTAÇÃO', 'AUTOMAÇÃO',\n",
    "              'ENGENHARIA DIGITAL', 'CONSTRUTIBILIDADE', 'ENGENHARIA DIGITAL', 'ESTUDOS', 'SUPRIMENTOS', 'ENGENHARIA ECONÔMICA',\n",
    "              'PRODUCT DEVELOPMENT', 'GERÊNCIA', 'PLANEJAMENTO', 'DIVERSOS', 'DIVERSOS', 'DIVERSOS', 'DIVERSOS', 'DIVERSOS', \n",
    "              'DIVERSOS', 'DIVERSOS' \n",
    "             ]\n",
    "\n",
    "unidade = [\n",
    "           'H', 'H', 'H', 'H', 'H', 'H', 'H', 'H', 'H', 'H', 'H', \n",
    "           'H', 'H', 'H', 'H', 'H', 'H', 'H', 'H', 'H', 'H', 'H',\n",
    "           'H', 'UN', 'UN', 'UN', 'H', 'UN', 'H', 'UN' \n",
    "          ]\n",
    "\n",
    "indice = [\n",
    "          1, 2, 3, 4, 5, 6, 7, 8, 9, 10, 11, 12, 13, 14, 15, 16, 17,\n",
    "          18, 19, 20, 21, 22, 23, 101, 102, 103, 104, 105, 106, 107 \n",
    "         ]"
   ]
  },
  {
   "cell_type": "code",
   "execution_count": 4,
   "id": "565c13cb",
   "metadata": {},
   "outputs": [],
   "source": [
    "df = pd.DataFrame()"
   ]
  },
  {
   "cell_type": "code",
   "execution_count": 5,
   "id": "497f50a4",
   "metadata": {},
   "outputs": [],
   "source": [
    "df['activity'] = activity\n",
    "df['disciplina'] = disciplina\n",
    "df['unidade'] = unidade\n",
    "df['indice'] = indice"
   ]
  },
  {
   "cell_type": "code",
   "execution_count": 6,
   "id": "8a4acba4",
   "metadata": {},
   "outputs": [],
   "source": [
    "cur.execute(\"SELECT * FROM disciplinas\")\n",
    "disciplinas = cur.fetchall()\n",
    "disciplinas = pd.DataFrame(disciplinas)\n",
    "disciplinas.columns = ['id_disciplina', 'disciplina']\n",
    "disciplinas.head()\n",
    "\n",
    "df = df.merge(disciplinas[['disciplina', 'id_disciplina']], \n",
    "                           left_on='disciplina', \n",
    "                           right_on='disciplina',\n",
    "                           how='left')\n",
    "\n",
    "df.indice = df.indice.astype('object')\n",
    "df.id_disciplina = df.id_disciplina.astype('object')"
   ]
  },
  {
   "cell_type": "code",
   "execution_count": 7,
   "id": "8f174748",
   "metadata": {},
   "outputs": [
    {
     "data": {
      "text/plain": [
       "<sqlite3.Cursor at 0x25893cf2d40>"
      ]
     },
     "execution_count": 7,
     "metadata": {},
     "output_type": "execute_result"
    }
   ],
   "source": [
    "insert_query = \"INSERT OR IGNORE INTO activities (activity, indice, unidade, id_disciplina) VALUES (?, ?, ?, ?)\"\n",
    "cur.executemany(insert_query, list(zip(df.activity.values, df.indice.values, df.unidade.values, df.id_disciplina.values,)))"
   ]
  },
  {
   "cell_type": "code",
   "execution_count": 8,
   "id": "05f41c45",
   "metadata": {},
   "outputs": [],
   "source": [
    "con.commit()\n",
    "con.close()"
   ]
  },
  {
   "cell_type": "code",
   "execution_count": null,
   "id": "16a89686",
   "metadata": {},
   "outputs": [],
   "source": []
  }
 ],
 "metadata": {
  "kernelspec": {
   "display_name": "Python 3 (ipykernel)",
   "language": "python",
   "name": "python3"
  },
  "language_info": {
   "codemirror_mode": {
    "name": "ipython",
    "version": 3
   },
   "file_extension": ".py",
   "mimetype": "text/x-python",
   "name": "python",
   "nbconvert_exporter": "python",
   "pygments_lexer": "ipython3",
   "version": "3.10.9"
  }
 },
 "nbformat": 4,
 "nbformat_minor": 5
}
