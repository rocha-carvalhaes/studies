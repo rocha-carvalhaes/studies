{
 "cells": [
  {
   "cell_type": "code",
   "execution_count": 1,
   "id": "3b13cf6f",
   "metadata": {},
   "outputs": [
    {
     "name": "stdout",
     "output_type": "stream",
     "text": [
      "Table: projetos\n",
      "- n_projeto TEXT NOT NULL \n",
      "- id_projeto INTEGER NOT NULL PRIMARY KEY\n",
      "\n",
      "Table: sqlite_sequence\n",
      "- name  NOT NULL \n",
      "- seq  NOT NULL \n",
      "\n",
      "Table: registros\n",
      "- id_registro INTEGER NOT NULL PRIMARY KEY\n",
      "- id_projeto INTEGER NOT NULL \n",
      "- data_status REAL NOT NULL \n",
      "- tipo TEXT NOT NULL \n",
      "\n",
      "Table: disciplinas\n",
      "- id_disciplina INTEGER NOT NULL PRIMARY KEY\n",
      "- disciplina TEXT NOT NULL \n",
      "\n",
      "Table: activities\n",
      "- id_activity INTEGER NOT NULL PRIMARY KEY\n",
      "- activity TEXT NOT NULL \n",
      "- indice INTEGER NOT NULL \n",
      "- unidade TEXT NOT NULL \n",
      "- id_disciplina INTEGER NOT NULL \n",
      "\n",
      "Table: documentos\n",
      "- n_poyry TEXT NOT NULL \n",
      "- n_cliente TEXT NOT NULL PRIMARY KEY\n",
      "- avanco REAL NOT NULL \n",
      "- a1eq_bl REAL NOT NULL \n",
      "- a1eq_rp REAL NOT NULL \n",
      "- id_disciplina INTEGER NOT NULL \n",
      "- id_registro INTEGER NOT NULL \n",
      "\n",
      "Table: custos\n",
      "- id_custo INTEGER NOT NULL PRIMARY KEY\n",
      "- categoria TEXT NOT NULL \n",
      "- base_cost REAL NOT NULL \n",
      "- quantidade REAL NOT NULL \n",
      "- id_activity INTEGER NOT NULL \n",
      "- id_registro INTEGER NOT NULL \n",
      "\n"
     ]
    }
   ],
   "source": [
    "import sqlite3\n",
    "\n",
    "# Connect to the SQLite database\n",
    "conn = sqlite3.connect('teste_00.db')\n",
    "\n",
    "# Create a cursor object\n",
    "cursor = conn.cursor()\n",
    "\n",
    "# Get the list of tables in the database\n",
    "cursor.execute(\"SELECT name FROM sqlite_master WHERE type='table'\")\n",
    "tables = cursor.fetchall()\n",
    "\n",
    "# Iterate over the tables and retrieve their schema\n",
    "for table in tables:\n",
    "    table_name = table[0]\n",
    "    cursor.execute(f\"PRAGMA table_info({table_name})\")\n",
    "    columns = cursor.fetchall()\n",
    "\n",
    "    print(f\"Table: {table_name}\")\n",
    "    for column in columns:\n",
    "        column_name = column[1]\n",
    "        data_type = column[2]\n",
    "        is_nullable = 'NULL' if column[3] == 1 else 'NOT NULL'\n",
    "        is_primary_key = 'PRIMARY KEY' if column[5] == 1 else ''\n",
    "        \n",
    "        print(f\"- {column_name} {data_type} {is_nullable} {is_primary_key}\")\n",
    "\n",
    "    print()\n",
    "\n",
    "# Close the cursor and the connection\n",
    "cursor.close()\n",
    "conn.close()"
   ]
  },
  {
   "cell_type": "code",
   "execution_count": 11,
   "id": "07dcb691",
   "metadata": {},
   "outputs": [],
   "source": [
    "# Connect to the SQLite database\n",
    "conn = sqlite3.connect('teste_00.db')\n",
    "\n",
    "activity_ids = {}\n",
    "# Create a cursor object\n",
    "cursor = conn.cursor()\n",
    "\n",
    "\n",
    "# Retrieve the inserted registro ID\n",
    "registro_id = cursor.lastrowid\n",
    "\n",
    "# Populate custos table\n",
    "custos_data = [\n",
    "    ('Categoria 1', 10.5, 3.2, 'B - ENGINEERING SERVICES', registro_id),\n",
    "    ('Categoria 2', 8.7, 2.1, 'D - PRODUCT DEVELOPMENT', registro_id),\n",
    "    # Add more data as needed\n",
    "]\n",
    "\n",
    "for row in cursor.execute(\"SELECT id_activity, activity FROM activities\"):\n",
    "    activity_ids[row[1]] = row[0]\n",
    "    \n",
    "custos_data_with_ids = []\n",
    "for custo in custos_data:\n",
    "    categoria, base_cost, quantidade, activity_name, registro_id = custo\n",
    "    id_activity = activity_ids.get(activity_name)\n",
    "    if id_activity is not None:\n",
    "        custos_data_with_ids.append((categoria, base_cost, quantidade, id_activity, registro_id))\n"
   ]
  },
  {
   "cell_type": "code",
   "execution_count": 12,
   "id": "71e9cf70",
   "metadata": {},
   "outputs": [
    {
     "data": {
      "text/plain": [
       "{'A - PROJECT MANAGEMENT': 22,\n",
       " 'B - CIVIL - METÁLICA': 8,\n",
       " 'B - ENGINEERING SERVICES': 9,\n",
       " 'C - CIVIL - CONCRETO': 10,\n",
       " 'C - CIVIL ENGINEERING': 11,\n",
       " 'D - PRODUCT DEVELOPMENT': 21,\n",
       " 'E - ELECTRICAL ENGINEERING': 12,\n",
       " 'External Time, billable': 30,\n",
       " 'F - CONSTR. MANAGEMENT SERVICES': 16,\n",
       " 'G - STUDY AND RESEARCH SERVICES': 18,\n",
       " 'H - PROCUREMENT': 19,\n",
       " 'I - INSTRUMENT / PROCESS CONTROL ENGINEERING': 13,\n",
       " 'J - AUTOMATION SYSTEM ENGINEERING': 14,\n",
       " 'JD - DIGITALISATION': 17,\n",
       " 'K - INVESTMENT COST ESTIM. & CONTROL': 20,\n",
       " 'L - ARCHITECTURAL DESIGN': 6,\n",
       " 'L - CIVIL - ARQUITETURA': 5,\n",
       " 'M - MECHANICAL ENGINEERING': 3,\n",
       " 'Miscellaneous costs': 24,\n",
       " 'P - PROCESS ENGINEERING': 1,\n",
       " 'R - ADP SERVICES': 15,\n",
       " 'Revenue evaluation': 25,\n",
       " 'S - PROJECT PLANNING & FOLLOW-UP': 23,\n",
       " 'Subconsulting,  other expenses external': 28,\n",
       " 'T - PIPING ENGINEERING': 4,\n",
       " 'Travel costs': 26,\n",
       " 'U - TRAINING SERVICES': 27,\n",
       " 'V - HVAC & SANITARY SYSTEM DESIGN': 2,\n",
       " 'W - INFRA SERVICES': 7,\n",
       " 'Y - HEALTH & SAFETY': 29}"
      ]
     },
     "execution_count": 12,
     "metadata": {},
     "output_type": "execute_result"
    }
   ],
   "source": [
    "activity_ids"
   ]
  },
  {
   "cell_type": "code",
   "execution_count": 13,
   "id": "fe0dd340",
   "metadata": {},
   "outputs": [
    {
     "data": {
      "text/plain": [
       "[('Categoria 1', 10.5, 3.2, 9, None), ('Categoria 2', 8.7, 2.1, 21, None)]"
      ]
     },
     "execution_count": 13,
     "metadata": {},
     "output_type": "execute_result"
    }
   ],
   "source": [
    "custos_data_with_ids"
   ]
  },
  {
   "cell_type": "code",
   "execution_count": 6,
   "id": "0a0b00ae",
   "metadata": {
    "scrolled": true
   },
   "outputs": [
    {
     "name": "stdout",
     "output_type": "stream",
     "text": [
      "Error: id_projeto 1 already exists in the projetos table.\n",
      "Error: Registro with tipo 'CUSTO', data_status '2023-07-05', and id_projeto 1 already exists in the registros table.\n"
     ]
    }
   ],
   "source": [
    "import sqlite3\n",
    "from datetime import date\n",
    "\n",
    "# Connect to the SQLite database\n",
    "conn = sqlite3.connect('teste_00.db')\n",
    "\n",
    "# Create a cursor object\n",
    "cursor = conn.cursor()\n",
    "\n",
    "# Define the data to be inserted\n",
    "id_projeto = 1\n",
    "tipo = 'CUSTO'\n",
    "today = date.today()\n",
    "\n",
    "# Check if id_projeto already exists in projetos table\n",
    "cursor.execute(\"SELECT COUNT(*) FROM projetos WHERE id_projeto = ?\", (id_projeto,))\n",
    "projeto_exists = cursor.fetchone()[0] > 0\n",
    "\n",
    "# Check if tipo, data_status, and id_projeto already exist in registros table\n",
    "cursor.execute(\"SELECT COUNT(*) FROM registros WHERE tipo = ? AND data_status = ? AND id_projeto = ?\", (tipo, today, id_projeto))\n",
    "registro_exists = cursor.fetchone()[0] > 0\n",
    "\n",
    "# If projeto or registro already exists, display an error message and stop execution\n",
    "if projeto_exists:\n",
    "    print(f\"Error: id_projeto {id_projeto} already exists in the projetos table.\")\n",
    "\n",
    "if registro_exists:\n",
    "    print(f\"Error: Registro with tipo '{tipo}', data_status '{today}', and id_projeto {id_projeto} already exists in the registros table.\")\n",
    "\n",
    "# Insert data into projetos table\n",
    "if not projeto_exists:\n",
    "    cursor.execute(\"INSERT INTO projetos (id_projeto) VALUES (?)\", (id_projeto,))\n",
    "\n",
    "# Insert data into registros table\n",
    "if not registro_exists:\n",
    "    cursor.execute(\"INSERT INTO registros (id_projeto, data_status, tipo) VALUES (?, ?, ?)\", (id_projeto, today, tipo))\n",
    "\n",
    "# Retrieve the inserted registro ID\n",
    "registro_id = cursor.lastrowid\n",
    "\n",
    "# Populate custos table\n",
    "custos_data = [\n",
    "    ('Categoria 1', 10.5, 3.2, 'Travel costs', registro_id),\n",
    "    ('Categoria 2', 8.7, 2.1, 'Travel costs', registro_id),\n",
    "    # Add more data as needed\n",
    "]\n",
    "\n",
    "# Retrieve activity IDs based on activity names\n",
    "activity_ids = {}\n",
    "for row in cursor.execute(\"SELECT id_activity, activity FROM activities\"):\n",
    "    activity_ids[row[1]] = row[0]\n",
    "\n",
    "# Prepare custos data with activity IDs\n",
    "custos_data_with_ids = []\n",
    "for custo in custos_data:\n",
    "    categoria, base_cost, quantidade, activity_name, registro_id = custo\n",
    "    id_activity = activity_ids.get(activity_name)\n",
    "    if id_activity is not None:\n",
    "        custos_data_with_ids.append((categoria, base_cost, quantidade, id_activity, registro_id))\n",
    "\n",
    "# Insert custos data into the table\n",
    "cursor.executemany(\"INSERT INTO custos (categoria, base_cost, quantidade, id_activity, id_registro) VALUES (?, ?, ?, ?, ?)\", custos_data_with_ids)\n",
    "\n",
    "# Commit the changes to the database\n",
    "conn.commit()\n",
    "\n",
    "# Close the cursor and the connection\n",
    "cursor.close()\n",
    "conn.close()"
   ]
  },
  {
   "cell_type": "code",
   "execution_count": 8,
   "id": "ab15dcbb",
   "metadata": {
    "scrolled": true
   },
   "outputs": [
    {
     "name": "stdout",
     "output_type": "stream",
     "text": [
      "[(1, 'ET05', 169.11, 480.0, 16, 2), (2, 'ET04', 120.21, 620.0, 16, 2), (3, 'ET03', 91.87, 600.0, 16, 2), (4, 'ET04', 113.59, 84.0, 15, 2), (5, 'ET03', 99.5, 378.0, 15, 2), (6, 'ET02', 77.98, 378.0, 15, 2), (7, 'ET03', 117.04, 350.0, 20, 2), (8, 'ET04', 126.7, 350.0, 20, 2), (9, 'ET04', 120.21, 400.0, 19, 2), (10, 'ET06', 224.54, 104.0, 1, 2), (11, 'ET05', 169.11, 185.25, 1, 2), (12, 'ET04', 120.21, 934.0, 1, 2), (13, 'ET03', 91.87, 813.0, 1, 2), (14, 'ET02', 62.9, 84.0, 1, 2), (15, 'ET01', 36.31, 44.12913905744057, 1, 2), (16, 'ET05', 169.11, 27.25, 14, 2), (17, 'ET04', 120.21, 1453.0, 14, 2), (18, 'ET03', 95.63, 1678.0, 14, 2), (19, 'ET02', 60.7, 597.0, 14, 2), (20, 'ET01', 32.4, 366.58932135975647, 14, 2), (21, 'ET05', 169.11, 0.0, 7, 2), (22, 'ET04', 136.13, 40.0, 7, 2), (23, 'ET03', 95.7, 44.0, 7, 2), (24, 'ET02', 52.13, 0.0, 7, 2), (25, 'ET01', 32.63, 0.0, 7, 2), (26, 'ET05', 169.11, 16.25, 5, 2), (27, 'ET04', 136.13, 1075.0, 5, 2), (28, 'ET03', 95.7, 930.0, 5, 2), (29, 'ET02', 52.13, 291.0, 5, 2), (30, 'ET01', 32.63, 231.25489725135475, 5, 2), (31, 'ET05', 169.11, 17.0625, 10, 2), (32, 'ET04', 136.13, 1128.75, 10, 2), (33, 'ET03', 95.7, 1520.0, 10, 2), (34, 'ET02', 52.13, 414.75, 10, 2), (35, 'ET01', 32.63, 204.985528410881, 10, 2), (36, 'ET05', 169.11, 19.0, 8, 2), (37, 'ET04', 136.13, 1319.0, 8, 2), (38, 'ET03', 95.7, 2234.0, 8, 2), (39, 'ET02', 52.13, 660.0, 8, 2), (40, 'ET01', 32.63, 317.9064573711644, 8, 2), (41, 'ET06', 224.54, 160.0, 12, 2), (42, 'ET05', 169.11, 52.6875, 12, 2), (43, 'ET04', 106.83, 1799.0, 12, 2), (44, 'ET03', 98.52, 2890.75, 12, 2), (45, 'ET02', 61.88, 1989.0, 12, 2), (46, 'ET01', 36.0, 716.4668216933552, 12, 2), (47, 'ET05', 169.11, 1042.0, 3, 2), (48, 'ET04', 140.29, 1937.0, 3, 2), (49, 'ET03', 90.01, 2943.0, 3, 2), (50, 'ET02', 60.34, 878.0, 3, 2), (51, 'ET01', 35.44, 199.83768206510592, 3, 2), (52, 'ET05', 169.11, 18.875, 4, 2), (53, 'ET04', 120.21, 730.5, 4, 2), (54, 'ET03', 95.63, 1117.5, 4, 2), (55, 'ET02', 63.38, 805.5, 4, 2), (56, 'ET01', 36.31, 130.6881181840075, 4, 2), (57, 'ET03', 76.33, 2743.3125, 23, 2), (58, 'ET05', 134.88, 0.0, 23, 2), (59, 'ET05', 157.91, 2400.0, 22, 2), (60, 'ET04', 120.21, 339.8125, 22, 2), (61, 'ET02', 48.75, 359.25, 22, 2), (62, 'Categoria 1', 10.5, 3.2, 26, 0), (63, 'Categoria 2', 8.7, 2.1, 26, 0)]\n"
     ]
    }
   ],
   "source": [
    "# Connect to the SQLite database\n",
    "conn = sqlite3.connect('teste_00.db')\n",
    "\n",
    "# Create a cursor object\n",
    "cursor = conn.cursor()\n",
    "\n",
    "cursor.execute(\"SELECT * FROM custos\")\n",
    "print(cursor.fetchall())\n",
    "\n",
    "# Close the cursor and the connection\n",
    "cursor.close()\n",
    "conn.close()"
   ]
  },
  {
   "cell_type": "code",
   "execution_count": 2,
   "id": "b86ba600",
   "metadata": {},
   "outputs": [],
   "source": [
    "import sqlite3 as sql"
   ]
  },
  {
   "cell_type": "code",
   "execution_count": 3,
   "id": "5b9e1ebb",
   "metadata": {},
   "outputs": [],
   "source": [
    "con = sql.connect('teste_00.db')\n",
    "cur = con.cursor()"
   ]
  },
  {
   "cell_type": "code",
   "execution_count": 14,
   "id": "3381ee7a",
   "metadata": {
    "scrolled": true
   },
   "outputs": [
    {
     "data": {
      "text/plain": [
       "[(1, 'ET05', 16),\n",
       " (2, 'ET04', 16),\n",
       " (3, 'ET03', 16),\n",
       " (4, 'ET04', 15),\n",
       " (5, 'ET03', 15),\n",
       " (6, 'ET02', 15),\n",
       " (7, 'ET03', 20),\n",
       " (8, 'ET04', 20),\n",
       " (9, 'ET04', 19),\n",
       " (10, 'ET06', 1),\n",
       " (11, 'ET05', 1),\n",
       " (12, 'ET04', 1),\n",
       " (13, 'ET03', 1),\n",
       " (14, 'ET02', 1),\n",
       " (15, 'ET01', 1),\n",
       " (16, 'ET05', 14),\n",
       " (17, 'ET04', 14),\n",
       " (18, 'ET03', 14),\n",
       " (19, 'ET02', 14),\n",
       " (20, 'ET01', 14),\n",
       " (21, 'ET05', 7),\n",
       " (22, 'ET04', 7),\n",
       " (23, 'ET03', 7),\n",
       " (24, 'ET02', 7),\n",
       " (25, 'ET01', 7),\n",
       " (26, 'ET05', 5),\n",
       " (27, 'ET04', 5),\n",
       " (28, 'ET03', 5),\n",
       " (29, 'ET02', 5),\n",
       " (30, 'ET01', 5),\n",
       " (31, 'ET05', 10),\n",
       " (32, 'ET04', 10),\n",
       " (33, 'ET03', 10),\n",
       " (34, 'ET02', 10),\n",
       " (35, 'ET01', 10),\n",
       " (36, 'ET05', 8),\n",
       " (37, 'ET04', 8),\n",
       " (38, 'ET03', 8),\n",
       " (39, 'ET02', 8),\n",
       " (40, 'ET01', 8),\n",
       " (41, 'ET06', 12),\n",
       " (42, 'ET05', 12),\n",
       " (43, 'ET04', 12),\n",
       " (44, 'ET03', 12),\n",
       " (45, 'ET02', 12),\n",
       " (46, 'ET01', 12),\n",
       " (47, 'ET05', 3),\n",
       " (48, 'ET04', 3),\n",
       " (49, 'ET03', 3),\n",
       " (50, 'ET02', 3),\n",
       " (51, 'ET01', 3),\n",
       " (52, 'ET05', 4),\n",
       " (53, 'ET04', 4),\n",
       " (54, 'ET03', 4),\n",
       " (55, 'ET02', 4),\n",
       " (56, 'ET01', 4),\n",
       " (57, 'ET03', 23),\n",
       " (58, 'ET05', 23),\n",
       " (59, 'ET05', 22),\n",
       " (60, 'ET04', 22),\n",
       " (61, 'ET02', 22)]"
      ]
     },
     "execution_count": 14,
     "metadata": {},
     "output_type": "execute_result"
    }
   ],
   "source": [
    "cur.execute(\"SELECT * FROM categorias\")\n",
    "cur.fetchall()"
   ]
  },
  {
   "cell_type": "code",
   "execution_count": 4,
   "id": "cf28984a",
   "metadata": {},
   "outputs": [
    {
     "data": {
      "text/plain": [
       "[(0, 'id_registro', 'INTEGER', 0, None, 1),\n",
       " (1, 'id_projeto', 'INTEGER', 0, None, 0),\n",
       " (2, 'data_status', 'REAL', 0, None, 0),\n",
       " (3, 'tipo', 'TEXT', 0, None, 0)]"
      ]
     },
     "execution_count": 4,
     "metadata": {},
     "output_type": "execute_result"
    }
   ],
   "source": [
    "cur.execute(f\"PRAGMA table_info(registros)\")\n",
    "columns = cur.fetchall()\n",
    "columns"
   ]
  },
  {
   "cell_type": "code",
   "execution_count": 3,
   "id": "eb4eabe0",
   "metadata": {},
   "outputs": [
    {
     "data": {
      "text/plain": [
       "[(1, 1, '2023-06-21', 'AS SOLD'),\n",
       " (2, 1, '2023-06-23', 'MACONOMY'),\n",
       " (3, 1, '2023-06-14', 'LISTA DE DESENHOS E DOCUMENTOS'),\n",
       " (4, 4, '2023-05-16', 'LISTA DE DESENHOS E DOCUMENTOS')]"
      ]
     },
     "execution_count": 3,
     "metadata": {},
     "output_type": "execute_result"
    }
   ],
   "source": [
    "import sqlite3 as sql\n",
    "\n",
    "con = sql.connect('teste_00.db')\n",
    "cur = con.cursor()\n",
    "\n",
    "cur.execute(\"SELECT * FROM registros\")\n",
    "cur.fetchall()"
   ]
  },
  {
   "cell_type": "code",
   "execution_count": 5,
   "id": "ee6df973",
   "metadata": {},
   "outputs": [],
   "source": [
    "con.commit()\n",
    "con.close()"
   ]
  },
  {
   "cell_type": "code",
   "execution_count": null,
   "id": "5d8b0649",
   "metadata": {},
   "outputs": [],
   "source": []
  }
 ],
 "metadata": {
  "kernelspec": {
   "display_name": "Python 3 (ipykernel)",
   "language": "python",
   "name": "python3"
  },
  "language_info": {
   "codemirror_mode": {
    "name": "ipython",
    "version": 3
   },
   "file_extension": ".py",
   "mimetype": "text/x-python",
   "name": "python",
   "nbconvert_exporter": "python",
   "pygments_lexer": "ipython3",
   "version": "3.10.9"
  }
 },
 "nbformat": 4,
 "nbformat_minor": 5
}
