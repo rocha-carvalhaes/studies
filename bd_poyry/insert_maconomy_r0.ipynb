{
 "cells": [
  {
   "cell_type": "code",
   "execution_count": 41,
   "id": "1b61d917",
   "metadata": {},
   "outputs": [],
   "source": [
    "import tkinter as tk\n",
    "from tkinter import filedialog"
   ]
  },
  {
   "cell_type": "code",
   "execution_count": 42,
   "id": "c43bb638",
   "metadata": {},
   "outputs": [
    {
     "data": {
      "text/plain": [
       "'C:/Users/lci734/OneDrive - AFRY/Documents/01_poyry/01_projetos/03_usiminas/lingotamento/Maconomy/Maconomy lingotamento 23-07-12 - HH.xlsx'"
      ]
     },
     "execution_count": 42,
     "metadata": {},
     "output_type": "execute_result"
    }
   ],
   "source": [
    "root = tk.Tk()\n",
    "root.withdraw()\n",
    "\n",
    "m_path = filedialog.askopenfilename()\n",
    "m_path"
   ]
  },
  {
   "cell_type": "code",
   "execution_count": 43,
   "id": "0d3c4dda",
   "metadata": {},
   "outputs": [
    {
     "name": "stdout",
     "output_type": "stream",
     "text": [
      "Digite a data de status (DD/MM/YYYY): 12/07/2023\n",
      "Data validada: 2023-07-12\n"
     ]
    }
   ],
   "source": [
    "from datetime import datetime\n",
    "\n",
    "def validar_data(prompt):\n",
    "    while True:\n",
    "        data_input = input(prompt)\n",
    "        try:\n",
    "            data_status = datetime.strptime(data_input, \"%d/%m/%Y\").date()\n",
    "            return data_status\n",
    "        except ValueError:\n",
    "            print(\"Data inválida. Por favor, digite uma data no formato DD/MM/YYYY.\")\n",
    "\n",
    "data_status = validar_data(\"Digite a data de status (DD/MM/YYYY): \")\n",
    "print(\"Data validada:\", data_status)"
   ]
  },
  {
   "cell_type": "code",
   "execution_count": 44,
   "id": "8d819472",
   "metadata": {},
   "outputs": [
    {
     "name": "stdout",
     "output_type": "stream",
     "text": [
      "Digite o Nº do Projeto (1090XXXXX-XXX): 109004000-001\n",
      "Nº do Projeto validado: 109004000-001\n"
     ]
    }
   ],
   "source": [
    "def validar_projeto(prompt):\n",
    "    while True:\n",
    "        projeto_input = input(prompt)\n",
    "        if len(projeto_input) == 13:\n",
    "            projeto = projeto_input\n",
    "            return projeto\n",
    "        else:\n",
    "            print('Nº do Projeto inválido. Por favor, digite novamente.')\n",
    "        \n",
    "projeto = validar_projeto('Digite o Nº do Projeto (1090XXXXX-XXX): ')\n",
    "print('Nº do Projeto validado:',projeto )"
   ]
  },
  {
   "cell_type": "code",
   "execution_count": 45,
   "id": "435ea556",
   "metadata": {},
   "outputs": [],
   "source": [
    "tipo = \"MACONOMY\""
   ]
  },
  {
   "cell_type": "code",
   "execution_count": 46,
   "id": "67208d07",
   "metadata": {},
   "outputs": [],
   "source": [
    "import pandas as pd"
   ]
  },
  {
   "cell_type": "code",
   "execution_count": 47,
   "id": "1913fc47",
   "metadata": {
    "scrolled": true
   },
   "outputs": [],
   "source": [
    "df = pd.read_excel(m_path)\n",
    "df['category'] = df['Employee Category No.'].str.split('-').str[0]"
   ]
  },
  {
   "cell_type": "code",
   "execution_count": 48,
   "id": "28995acf",
   "metadata": {},
   "outputs": [],
   "source": [
    "import sqlite3 as sql"
   ]
  },
  {
   "cell_type": "code",
   "execution_count": 49,
   "id": "e1874f5f",
   "metadata": {},
   "outputs": [],
   "source": [
    "con = sql.connect('teste_00.db')\n",
    "cur = con.cursor()"
   ]
  },
  {
   "cell_type": "code",
   "execution_count": 50,
   "id": "f14b60f2",
   "metadata": {
    "scrolled": true
   },
   "outputs": [],
   "source": [
    "# pegar id_activity\n",
    "cur.execute(\"SELECT * FROM activities\")\n",
    "activities = cur.fetchall()\n",
    "activities = pd.DataFrame(activities)\n",
    "activities.columns = ['id_activity', 'activity', 'indice', 'unidade', 'id_disciplina']\n",
    "activities.head()\n",
    "\n",
    "df = df.merge(activities[['activity', 'id_activity']], \n",
    "                           left_on='Activity Name', \n",
    "                           right_on='activity',\n",
    "                           how='left')\n",
    "\n",
    "df.id_activity = df.id_activity.astype('object')"
   ]
  },
  {
   "cell_type": "code",
   "execution_count": 51,
   "id": "5c8b7b8e",
   "metadata": {},
   "outputs": [],
   "source": [
    "# transformando valores em objetos (strings)\n",
    "df['Entry No.'] = df['Entry No.'].astype('object')\n",
    "df['EntryDate'] = df['EntryDate'].dt.date\n",
    "df['Quantity Reg.'] = df['Quantity Reg.'].astype('object')\n",
    "df['Base Salary Cost, Currency'] = df['Base Salary Cost, Currency'].astype('object')\n",
    "df['Cost, Reg.'] = df['Cost, Reg.'].astype('object')"
   ]
  },
  {
   "cell_type": "code",
   "execution_count": 52,
   "id": "9f40b1bd",
   "metadata": {
    "scrolled": true
   },
   "outputs": [
    {
     "data": {
      "text/plain": [
       "<sqlite3.Cursor at 0x1e4c70557c0>"
      ]
     },
     "execution_count": 52,
     "metadata": {},
     "output_type": "execute_result"
    }
   ],
   "source": [
    "# inserir categorias novas na tabela categorias\n",
    "categorias_ineditas = []\n",
    "df_cat = df.loc[(df.category.notnull()) & (df.id_activity.notnull())]\n",
    "for value in list(zip(df_cat.category.values, df_cat.id_activity.values,)):\n",
    "    cur.execute(\"SELECT COUNT(*) FROM categorias WHERE categoria = ? AND id_activity = ?\", value)\n",
    "    count = cur.fetchone()[0]\n",
    "    if (count == 0) & (value[0] != None) & (value[1] != None): \n",
    "        categorias_ineditas.append(value)\n",
    "        \n",
    "categorias_ineditas = list(set(categorias_ineditas))\n",
    "cur.executemany(\"INSERT INTO categorias (categoria, id_activity) VALUES (?, ?)\", categorias_ineditas)   "
   ]
  },
  {
   "cell_type": "code",
   "execution_count": 53,
   "id": "339552ba",
   "metadata": {},
   "outputs": [],
   "source": [
    "cur.execute(\"SELECT * FROM categorias\")\n",
    "categorias = pd.DataFrame(cur.fetchall())\n",
    "categorias.columns = ['id_categoria', 'categoria', 'id_activity']\n",
    "\n",
    "df = df.merge(categorias[['categoria', 'id_activity', 'id_categoria']], \n",
    "                           left_on=['category','id_activity'], \n",
    "                           right_on=['categoria','id_activity'],\n",
    "                           how='left')\n",
    "\n",
    "df.id_categoria = df.id_categoria.astype('object')"
   ]
  },
  {
   "cell_type": "code",
   "execution_count": 54,
   "id": "ad8bd566",
   "metadata": {
    "scrolled": true
   },
   "outputs": [
    {
     "name": "stdout",
     "output_type": "stream",
     "text": [
      "Registro inserido\n",
      "MACONOMY inserido\n"
     ]
    }
   ],
   "source": [
    "# inserir projeto na tabela projetos, caso não exista\n",
    "insert_query = \"INSERT OR IGNORE INTO projetos (n_projeto) VALUES (?)\"\n",
    "cur.execute(insert_query, (projeto,))\n",
    "\n",
    "query = \"SELECT * FROM projetos WHERE n_projeto = ?\"\n",
    "cur.execute(query, (projeto,))\n",
    "id_projeto = cur.fetchall()[0][1]\n",
    "\n",
    "# inserir registro na tabela registros, caso não exista\n",
    "check_query = \"SELECT COUNT(*) FROM registros WHERE id_projeto = ? AND data_status = ? AND tipo = ?\"\n",
    "cur.execute(check_query, (id_projeto, data_status, tipo,))\n",
    "unico = cur.fetchall()[0][0]\n",
    "\n",
    "if unico == 0:\n",
    "    insert_query = \"INSERT OR IGNORE INTO registros (id_projeto, data_status, tipo) VALUES (?, ?, ?)\"\n",
    "    cur.execute(insert_query, (id_projeto, data_status, tipo,))\n",
    "    print('Registro inserido')\n",
    "else:\n",
    "    print('Registro já existente.')\n",
    "    \n",
    "# inserir custo na tabela custos, caso não existam\n",
    "query = \"SELECT * FROM registros WHERE id_projeto = ? AND data_status = ? AND tipo = ?\"\n",
    "cur.execute(query, (id_projeto, data_status, tipo,))\n",
    "id_registro = cur.fetchall()[0][0]\n",
    "\n",
    "check_query = \"SELECT COUNT(*) FROM maconomy WHERE id_registro = ?\"\n",
    "cur.execute(check_query, (id_registro,))\n",
    "unico = cur.fetchall()[0][0]\n",
    "\n",
    "if unico == 0:  \n",
    "    \n",
    "    entry_no = df['Entry No.'].values\n",
    "    entry_date = df['EntryDate'].values\n",
    "    employee_name = df['Employee Name'].values\n",
    "    id_categoria = df['id_categoria'].values\n",
    "    task = df['Task'].values\n",
    "    quantidade = df['Quantity Reg.'].values\n",
    "    base_cost = df['Base Salary Cost, Currency'].values\n",
    "    cost_reg = df['Cost, Reg.'].values\n",
    "    try:\n",
    "        subprojeto = df['Subprojeto'].values\n",
    "    except:\n",
    "        subprojeto = [None] * len(entry_no)\n",
    "    id_registro = [id_registro] * len(entry_no)\n",
    "    \n",
    "    insert_query = \"\"\"INSERT INTO maconomy \n",
    "    (\n",
    "    id_registro,\n",
    "    entry_no,\n",
    "    entry_date,\n",
    "    employee_name,\n",
    "    id_categoria,\n",
    "    task,\n",
    "    quantidade,\n",
    "    base_cost,\n",
    "    cost_reg,\n",
    "    subprojeto\n",
    "    )\n",
    "    VALUES\n",
    "    (?, ?, ?, ?, ?, ?, ?, ?, ?, ?)\"\"\"\n",
    "    cur.executemany(insert_query, list(zip(id_registro,entry_no,entry_date,employee_name,\n",
    "                                           id_categoria,task,quantidade,base_cost,cost_reg,\n",
    "                                           subprojeto)))\n",
    "    print('MACONOMY inserido')\n",
    "else:\n",
    "    print('MACONOMY já existente.')"
   ]
  },
  {
   "cell_type": "code",
   "execution_count": 55,
   "id": "efa30db5",
   "metadata": {},
   "outputs": [],
   "source": [
    "con.commit()\n",
    "con.close()"
   ]
  },
  {
   "cell_type": "code",
   "execution_count": null,
   "id": "485be9c2",
   "metadata": {},
   "outputs": [],
   "source": []
  }
 ],
 "metadata": {
  "kernelspec": {
   "display_name": "Python 3 (ipykernel)",
   "language": "python",
   "name": "python3"
  },
  "language_info": {
   "codemirror_mode": {
    "name": "ipython",
    "version": 3
   },
   "file_extension": ".py",
   "mimetype": "text/x-python",
   "name": "python",
   "nbconvert_exporter": "python",
   "pygments_lexer": "ipython3",
   "version": "3.10.9"
  }
 },
 "nbformat": 4,
 "nbformat_minor": 5
}
