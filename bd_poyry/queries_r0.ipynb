{
 "cells": [
  {
   "cell_type": "code",
   "execution_count": 38,
   "id": "3a2432bd",
   "metadata": {},
   "outputs": [],
   "source": [
    "import pandas as pd\n",
    "import sqlite3 as sql"
   ]
  },
  {
   "cell_type": "code",
   "execution_count": 50,
   "id": "47b52931",
   "metadata": {},
   "outputs": [],
   "source": [
    "con = sql.connect('teste_00.db')\n",
    "cur = con.cursor()"
   ]
  },
  {
   "cell_type": "code",
   "execution_count": 51,
   "id": "bc3fda7d",
   "metadata": {},
   "outputs": [],
   "source": [
    "def query_table(name_table):\n",
    "    cur.execute(\"SELECT * FROM {}\".format(name_table))\n",
    "    df = pd.DataFrame(cur.fetchall())\n",
    "    cur.execute(\"PRAGMA table_info({})\".format(name_table))\n",
    "    rows = cur.fetchall()\n",
    "    column_names = [row[1] for row in rows]\n",
    "    df.columns = [column_names]\n",
    "    return(df)"
   ]
  },
  {
   "cell_type": "code",
   "execution_count": 52,
   "id": "3a64f2de",
   "metadata": {},
   "outputs": [],
   "source": [
    "custos = query_table('custos')\n",
    "maconomy = query_table('maconomy')\n",
    "documentos = query_table('documentos')\n",
    "projetos = query_table('projetos')\n",
    "registros = query_table('registros')\n",
    "disciplinas = query_table('disciplinas')\n",
    "activities = query_table('activities')\n",
    "categorias = query_table('categorias')"
   ]
  },
  {
   "cell_type": "code",
   "execution_count": 55,
   "id": "792aae23",
   "metadata": {},
   "outputs": [],
   "source": [
    "con.commit()\n",
    "con.close()"
   ]
  }
 ],
 "metadata": {
  "kernelspec": {
   "display_name": "Python 3 (ipykernel)",
   "language": "python",
   "name": "python3"
  },
  "language_info": {
   "codemirror_mode": {
    "name": "ipython",
    "version": 3
   },
   "file_extension": ".py",
   "mimetype": "text/x-python",
   "name": "python",
   "nbconvert_exporter": "python",
   "pygments_lexer": "ipython3",
   "version": "3.10.9"
  }
 },
 "nbformat": 4,
 "nbformat_minor": 5
}
